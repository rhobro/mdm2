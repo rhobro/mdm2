{
 "cells": [
  {
   "cell_type": "code",
   "id": "initial_id",
   "metadata": {
    "collapsed": true,
    "ExecuteTime": {
     "end_time": "2025-03-06T19:41:42.175219Z",
     "start_time": "2025-03-06T19:41:41.986320Z"
    }
   },
   "source": [
    "import numpy as np\n",
    "import pandas as pd\n",
    "from xgboost import XGBClassifier\n",
    "from sklearn.model_selection import train_test_split\n",
    "from sklearn.metrics import confusion_matrix\n",
    "from random import randint\n",
    "from util import *\n",
    "\n",
    "rand_state = rand_seed()\n",
    "print(f\"Using random state: {rand_state}\")"
   ],
   "outputs": [
    {
     "name": "stdout",
     "output_type": "stream",
     "text": [
      "Using random state: 830\n"
     ]
    }
   ],
   "execution_count": 1
  },
  {
   "metadata": {},
   "cell_type": "markdown",
   "source": "### Import data",
   "id": "6eef7cc1923c7c46"
  },
  {
   "metadata": {
    "ExecuteTime": {
     "end_time": "2025-03-06T19:41:42.258073Z",
     "start_time": "2025-03-06T19:41:42.242788Z"
    }
   },
   "cell_type": "code",
   "source": [
    "x_cols = [\"age\", \"gender\", \"location\", \"size\"]\n",
    "y_col = \"mdm2\"\n",
    "TEST_SIZE = 0.2\n",
    "\n",
    "df = load_with_columns(x_cols + [y_col])"
   ],
   "id": "d5a7db01bb9faa66",
   "outputs": [
    {
     "name": "stdout",
     "output_type": "stream",
     "text": [
      "Datapoints: 2706 --> 1657 (1049 removed)\n"
     ]
    }
   ],
   "execution_count": 2
  },
  {
   "metadata": {},
   "cell_type": "markdown",
   "source": "### Transform data",
   "id": "170f449e141fd022"
  },
  {
   "metadata": {
    "ExecuteTime": {
     "end_time": "2025-03-06T19:41:42.343126Z",
     "start_time": "2025-03-06T19:41:42.338814Z"
    }
   },
   "cell_type": "code",
   "source": [
    "x = df.loc[:, x_cols]\n",
    "y = df[y_col]\n",
    "\n",
    "x[\"gender\"] = x[\"gender\"].map({\"m\": 0, \"f\": 1})\n",
    "x = pd.get_dummies(x)\n",
    "y = y.astype(int)"
   ],
   "id": "9f988706588ca56d",
   "outputs": [],
   "execution_count": 3
  },
  {
   "metadata": {},
   "cell_type": "markdown",
   "source": "### Prepare for fit",
   "id": "ec577044f8df2ab6"
  },
  {
   "metadata": {
    "ExecuteTime": {
     "end_time": "2025-03-06T19:41:42.877255Z",
     "start_time": "2025-03-06T19:41:42.871620Z"
    }
   },
   "cell_type": "code",
   "source": [
    "x_train, x_test, y_train, y_test = train_test_split(\n",
    "    x, y,\n",
    "    test_size=TEST_SIZE,\n",
    "    random_state=rand_state,\n",
    "    stratify=y,\n",
    ")\n",
    "x_train = pd.get_dummies(x_train)\n",
    "x_test = pd.get_dummies(x_test)"
   ],
   "id": "664d7dfe15dd363d",
   "outputs": [],
   "execution_count": 4
  },
  {
   "metadata": {},
   "cell_type": "markdown",
   "source": "### Fit",
   "id": "84ebc702e07b51ce"
  },
  {
   "metadata": {
    "ExecuteTime": {
     "end_time": "2025-03-06T19:41:45.999768Z",
     "start_time": "2025-03-06T19:41:45.351469Z"
    }
   },
   "cell_type": "code",
   "source": [
    "model = XGBClassifier(\n",
    "    n_estimators=300,\n",
    "    learning_rate=0.05,\n",
    "    # scale_pos_weight=(y.shape[0]-y.sum())/y.sum(),\n",
    "    random_state=rand_state\n",
    ")\n",
    "model.fit(x_train, y_train)"
   ],
   "id": "d6a5d28c27cee8ba",
   "outputs": [
    {
     "ename": "AttributeError",
     "evalue": "'super' object has no attribute '__sklearn_tags__'",
     "output_type": "error",
     "traceback": [
      "\u001B[0;31m---------------------------------------------------------------------------\u001B[0m",
      "\u001B[0;31mAttributeError\u001B[0m                            Traceback (most recent call last)",
      "File \u001B[0;32m/opt/miniconda3/lib/python3.12/site-packages/IPython/core/formatters.py:1036\u001B[0m, in \u001B[0;36mMimeBundleFormatter.__call__\u001B[0;34m(self, obj, include, exclude)\u001B[0m\n\u001B[1;32m   1033\u001B[0m     method \u001B[38;5;241m=\u001B[39m get_real_method(obj, \u001B[38;5;28mself\u001B[39m\u001B[38;5;241m.\u001B[39mprint_method)\n\u001B[1;32m   1035\u001B[0m     \u001B[38;5;28;01mif\u001B[39;00m method \u001B[38;5;129;01mis\u001B[39;00m \u001B[38;5;129;01mnot\u001B[39;00m \u001B[38;5;28;01mNone\u001B[39;00m:\n\u001B[0;32m-> 1036\u001B[0m         \u001B[38;5;28;01mreturn\u001B[39;00m method(include\u001B[38;5;241m=\u001B[39minclude, exclude\u001B[38;5;241m=\u001B[39mexclude)\n\u001B[1;32m   1037\u001B[0m     \u001B[38;5;28;01mreturn\u001B[39;00m \u001B[38;5;28;01mNone\u001B[39;00m\n\u001B[1;32m   1038\u001B[0m \u001B[38;5;28;01melse\u001B[39;00m:\n",
      "File \u001B[0;32m/opt/miniconda3/lib/python3.12/site-packages/sklearn/base.py:469\u001B[0m, in \u001B[0;36mBaseEstimator._repr_mimebundle_\u001B[0;34m(self, **kwargs)\u001B[0m\n\u001B[1;32m    467\u001B[0m output \u001B[38;5;241m=\u001B[39m {\u001B[38;5;124m\"\u001B[39m\u001B[38;5;124mtext/plain\u001B[39m\u001B[38;5;124m\"\u001B[39m: \u001B[38;5;28mrepr\u001B[39m(\u001B[38;5;28mself\u001B[39m)}\n\u001B[1;32m    468\u001B[0m \u001B[38;5;28;01mif\u001B[39;00m get_config()[\u001B[38;5;124m\"\u001B[39m\u001B[38;5;124mdisplay\u001B[39m\u001B[38;5;124m\"\u001B[39m] \u001B[38;5;241m==\u001B[39m \u001B[38;5;124m\"\u001B[39m\u001B[38;5;124mdiagram\u001B[39m\u001B[38;5;124m\"\u001B[39m:\n\u001B[0;32m--> 469\u001B[0m     output[\u001B[38;5;124m\"\u001B[39m\u001B[38;5;124mtext/html\u001B[39m\u001B[38;5;124m\"\u001B[39m] \u001B[38;5;241m=\u001B[39m estimator_html_repr(\u001B[38;5;28mself\u001B[39m)\n\u001B[1;32m    470\u001B[0m \u001B[38;5;28;01mreturn\u001B[39;00m output\n",
      "File \u001B[0;32m/opt/miniconda3/lib/python3.12/site-packages/sklearn/utils/_estimator_html_repr.py:387\u001B[0m, in \u001B[0;36mestimator_html_repr\u001B[0;34m(estimator)\u001B[0m\n\u001B[1;32m    385\u001B[0m \u001B[38;5;28;01melse\u001B[39;00m:\n\u001B[1;32m    386\u001B[0m     \u001B[38;5;28;01mtry\u001B[39;00m:\n\u001B[0;32m--> 387\u001B[0m         check_is_fitted(estimator)\n\u001B[1;32m    388\u001B[0m         status_label \u001B[38;5;241m=\u001B[39m \u001B[38;5;124m\"\u001B[39m\u001B[38;5;124m<span>Fitted</span>\u001B[39m\u001B[38;5;124m\"\u001B[39m\n\u001B[1;32m    389\u001B[0m         is_fitted_css_class \u001B[38;5;241m=\u001B[39m \u001B[38;5;124m\"\u001B[39m\u001B[38;5;124mfitted\u001B[39m\u001B[38;5;124m\"\u001B[39m\n",
      "File \u001B[0;32m/opt/miniconda3/lib/python3.12/site-packages/sklearn/utils/validation.py:1751\u001B[0m, in \u001B[0;36mcheck_is_fitted\u001B[0;34m(estimator, attributes, msg, all_or_any)\u001B[0m\n\u001B[1;32m   1748\u001B[0m \u001B[38;5;28;01mif\u001B[39;00m \u001B[38;5;129;01mnot\u001B[39;00m \u001B[38;5;28mhasattr\u001B[39m(estimator, \u001B[38;5;124m\"\u001B[39m\u001B[38;5;124mfit\u001B[39m\u001B[38;5;124m\"\u001B[39m):\n\u001B[1;32m   1749\u001B[0m     \u001B[38;5;28;01mraise\u001B[39;00m \u001B[38;5;167;01mTypeError\u001B[39;00m(\u001B[38;5;124m\"\u001B[39m\u001B[38;5;132;01m%s\u001B[39;00m\u001B[38;5;124m is not an estimator instance.\u001B[39m\u001B[38;5;124m\"\u001B[39m \u001B[38;5;241m%\u001B[39m (estimator))\n\u001B[0;32m-> 1751\u001B[0m tags \u001B[38;5;241m=\u001B[39m get_tags(estimator)\n\u001B[1;32m   1753\u001B[0m \u001B[38;5;28;01mif\u001B[39;00m \u001B[38;5;129;01mnot\u001B[39;00m tags\u001B[38;5;241m.\u001B[39mrequires_fit \u001B[38;5;129;01mand\u001B[39;00m attributes \u001B[38;5;129;01mis\u001B[39;00m \u001B[38;5;28;01mNone\u001B[39;00m:\n\u001B[1;32m   1754\u001B[0m     \u001B[38;5;28;01mreturn\u001B[39;00m\n",
      "File \u001B[0;32m/opt/miniconda3/lib/python3.12/site-packages/sklearn/utils/_tags.py:430\u001B[0m, in \u001B[0;36mget_tags\u001B[0;34m(estimator)\u001B[0m\n\u001B[1;32m    428\u001B[0m \u001B[38;5;28;01mfor\u001B[39;00m klass \u001B[38;5;129;01min\u001B[39;00m \u001B[38;5;28mreversed\u001B[39m(\u001B[38;5;28mtype\u001B[39m(estimator)\u001B[38;5;241m.\u001B[39mmro()):\n\u001B[1;32m    429\u001B[0m     \u001B[38;5;28;01mif\u001B[39;00m \u001B[38;5;124m\"\u001B[39m\u001B[38;5;124m__sklearn_tags__\u001B[39m\u001B[38;5;124m\"\u001B[39m \u001B[38;5;129;01min\u001B[39;00m \u001B[38;5;28mvars\u001B[39m(klass):\n\u001B[0;32m--> 430\u001B[0m         sklearn_tags_provider[klass] \u001B[38;5;241m=\u001B[39m klass\u001B[38;5;241m.\u001B[39m__sklearn_tags__(estimator)  \u001B[38;5;66;03m# type: ignore[attr-defined]\u001B[39;00m\n\u001B[1;32m    431\u001B[0m         class_order\u001B[38;5;241m.\u001B[39mappend(klass)\n\u001B[1;32m    432\u001B[0m     \u001B[38;5;28;01melif\u001B[39;00m \u001B[38;5;124m\"\u001B[39m\u001B[38;5;124m_more_tags\u001B[39m\u001B[38;5;124m\"\u001B[39m \u001B[38;5;129;01min\u001B[39;00m \u001B[38;5;28mvars\u001B[39m(klass):\n",
      "File \u001B[0;32m/opt/miniconda3/lib/python3.12/site-packages/sklearn/base.py:540\u001B[0m, in \u001B[0;36mClassifierMixin.__sklearn_tags__\u001B[0;34m(self)\u001B[0m\n\u001B[1;32m    539\u001B[0m \u001B[38;5;28;01mdef\u001B[39;00m \u001B[38;5;21m__sklearn_tags__\u001B[39m(\u001B[38;5;28mself\u001B[39m):\n\u001B[0;32m--> 540\u001B[0m     tags \u001B[38;5;241m=\u001B[39m \u001B[38;5;28msuper\u001B[39m()\u001B[38;5;241m.\u001B[39m__sklearn_tags__()\n\u001B[1;32m    541\u001B[0m     tags\u001B[38;5;241m.\u001B[39mestimator_type \u001B[38;5;241m=\u001B[39m \u001B[38;5;124m\"\u001B[39m\u001B[38;5;124mclassifier\u001B[39m\u001B[38;5;124m\"\u001B[39m\n\u001B[1;32m    542\u001B[0m     tags\u001B[38;5;241m.\u001B[39mclassifier_tags \u001B[38;5;241m=\u001B[39m ClassifierTags()\n",
      "\u001B[0;31mAttributeError\u001B[0m: 'super' object has no attribute '__sklearn_tags__'"
     ]
    },
    {
     "ename": "AttributeError",
     "evalue": "'super' object has no attribute '__sklearn_tags__'",
     "output_type": "error",
     "traceback": [
      "\u001B[0;31m---------------------------------------------------------------------------\u001B[0m",
      "\u001B[0;31mAttributeError\u001B[0m                            Traceback (most recent call last)",
      "File \u001B[0;32m/opt/miniconda3/lib/python3.12/site-packages/IPython/core/formatters.py:406\u001B[0m, in \u001B[0;36mBaseFormatter.__call__\u001B[0;34m(self, obj)\u001B[0m\n\u001B[1;32m    404\u001B[0m     method \u001B[38;5;241m=\u001B[39m get_real_method(obj, \u001B[38;5;28mself\u001B[39m\u001B[38;5;241m.\u001B[39mprint_method)\n\u001B[1;32m    405\u001B[0m     \u001B[38;5;28;01mif\u001B[39;00m method \u001B[38;5;129;01mis\u001B[39;00m \u001B[38;5;129;01mnot\u001B[39;00m \u001B[38;5;28;01mNone\u001B[39;00m:\n\u001B[0;32m--> 406\u001B[0m         \u001B[38;5;28;01mreturn\u001B[39;00m method()\n\u001B[1;32m    407\u001B[0m     \u001B[38;5;28;01mreturn\u001B[39;00m \u001B[38;5;28;01mNone\u001B[39;00m\n\u001B[1;32m    408\u001B[0m \u001B[38;5;28;01melse\u001B[39;00m:\n",
      "File \u001B[0;32m/opt/miniconda3/lib/python3.12/site-packages/sklearn/base.py:463\u001B[0m, in \u001B[0;36mBaseEstimator._repr_html_inner\u001B[0;34m(self)\u001B[0m\n\u001B[1;32m    458\u001B[0m \u001B[38;5;28;01mdef\u001B[39;00m \u001B[38;5;21m_repr_html_inner\u001B[39m(\u001B[38;5;28mself\u001B[39m):\n\u001B[1;32m    459\u001B[0m \u001B[38;5;250m    \u001B[39m\u001B[38;5;124;03m\"\"\"This function is returned by the @property `_repr_html_` to make\u001B[39;00m\n\u001B[1;32m    460\u001B[0m \u001B[38;5;124;03m    `hasattr(estimator, \"_repr_html_\") return `True` or `False` depending\u001B[39;00m\n\u001B[1;32m    461\u001B[0m \u001B[38;5;124;03m    on `get_config()[\"display\"]`.\u001B[39;00m\n\u001B[1;32m    462\u001B[0m \u001B[38;5;124;03m    \"\"\"\u001B[39;00m\n\u001B[0;32m--> 463\u001B[0m     \u001B[38;5;28;01mreturn\u001B[39;00m estimator_html_repr(\u001B[38;5;28mself\u001B[39m)\n",
      "File \u001B[0;32m/opt/miniconda3/lib/python3.12/site-packages/sklearn/utils/_estimator_html_repr.py:387\u001B[0m, in \u001B[0;36mestimator_html_repr\u001B[0;34m(estimator)\u001B[0m\n\u001B[1;32m    385\u001B[0m \u001B[38;5;28;01melse\u001B[39;00m:\n\u001B[1;32m    386\u001B[0m     \u001B[38;5;28;01mtry\u001B[39;00m:\n\u001B[0;32m--> 387\u001B[0m         check_is_fitted(estimator)\n\u001B[1;32m    388\u001B[0m         status_label \u001B[38;5;241m=\u001B[39m \u001B[38;5;124m\"\u001B[39m\u001B[38;5;124m<span>Fitted</span>\u001B[39m\u001B[38;5;124m\"\u001B[39m\n\u001B[1;32m    389\u001B[0m         is_fitted_css_class \u001B[38;5;241m=\u001B[39m \u001B[38;5;124m\"\u001B[39m\u001B[38;5;124mfitted\u001B[39m\u001B[38;5;124m\"\u001B[39m\n",
      "File \u001B[0;32m/opt/miniconda3/lib/python3.12/site-packages/sklearn/utils/validation.py:1751\u001B[0m, in \u001B[0;36mcheck_is_fitted\u001B[0;34m(estimator, attributes, msg, all_or_any)\u001B[0m\n\u001B[1;32m   1748\u001B[0m \u001B[38;5;28;01mif\u001B[39;00m \u001B[38;5;129;01mnot\u001B[39;00m \u001B[38;5;28mhasattr\u001B[39m(estimator, \u001B[38;5;124m\"\u001B[39m\u001B[38;5;124mfit\u001B[39m\u001B[38;5;124m\"\u001B[39m):\n\u001B[1;32m   1749\u001B[0m     \u001B[38;5;28;01mraise\u001B[39;00m \u001B[38;5;167;01mTypeError\u001B[39;00m(\u001B[38;5;124m\"\u001B[39m\u001B[38;5;132;01m%s\u001B[39;00m\u001B[38;5;124m is not an estimator instance.\u001B[39m\u001B[38;5;124m\"\u001B[39m \u001B[38;5;241m%\u001B[39m (estimator))\n\u001B[0;32m-> 1751\u001B[0m tags \u001B[38;5;241m=\u001B[39m get_tags(estimator)\n\u001B[1;32m   1753\u001B[0m \u001B[38;5;28;01mif\u001B[39;00m \u001B[38;5;129;01mnot\u001B[39;00m tags\u001B[38;5;241m.\u001B[39mrequires_fit \u001B[38;5;129;01mand\u001B[39;00m attributes \u001B[38;5;129;01mis\u001B[39;00m \u001B[38;5;28;01mNone\u001B[39;00m:\n\u001B[1;32m   1754\u001B[0m     \u001B[38;5;28;01mreturn\u001B[39;00m\n",
      "File \u001B[0;32m/opt/miniconda3/lib/python3.12/site-packages/sklearn/utils/_tags.py:430\u001B[0m, in \u001B[0;36mget_tags\u001B[0;34m(estimator)\u001B[0m\n\u001B[1;32m    428\u001B[0m \u001B[38;5;28;01mfor\u001B[39;00m klass \u001B[38;5;129;01min\u001B[39;00m \u001B[38;5;28mreversed\u001B[39m(\u001B[38;5;28mtype\u001B[39m(estimator)\u001B[38;5;241m.\u001B[39mmro()):\n\u001B[1;32m    429\u001B[0m     \u001B[38;5;28;01mif\u001B[39;00m \u001B[38;5;124m\"\u001B[39m\u001B[38;5;124m__sklearn_tags__\u001B[39m\u001B[38;5;124m\"\u001B[39m \u001B[38;5;129;01min\u001B[39;00m \u001B[38;5;28mvars\u001B[39m(klass):\n\u001B[0;32m--> 430\u001B[0m         sklearn_tags_provider[klass] \u001B[38;5;241m=\u001B[39m klass\u001B[38;5;241m.\u001B[39m__sklearn_tags__(estimator)  \u001B[38;5;66;03m# type: ignore[attr-defined]\u001B[39;00m\n\u001B[1;32m    431\u001B[0m         class_order\u001B[38;5;241m.\u001B[39mappend(klass)\n\u001B[1;32m    432\u001B[0m     \u001B[38;5;28;01melif\u001B[39;00m \u001B[38;5;124m\"\u001B[39m\u001B[38;5;124m_more_tags\u001B[39m\u001B[38;5;124m\"\u001B[39m \u001B[38;5;129;01min\u001B[39;00m \u001B[38;5;28mvars\u001B[39m(klass):\n",
      "File \u001B[0;32m/opt/miniconda3/lib/python3.12/site-packages/sklearn/base.py:540\u001B[0m, in \u001B[0;36mClassifierMixin.__sklearn_tags__\u001B[0;34m(self)\u001B[0m\n\u001B[1;32m    539\u001B[0m \u001B[38;5;28;01mdef\u001B[39;00m \u001B[38;5;21m__sklearn_tags__\u001B[39m(\u001B[38;5;28mself\u001B[39m):\n\u001B[0;32m--> 540\u001B[0m     tags \u001B[38;5;241m=\u001B[39m \u001B[38;5;28msuper\u001B[39m()\u001B[38;5;241m.\u001B[39m__sklearn_tags__()\n\u001B[1;32m    541\u001B[0m     tags\u001B[38;5;241m.\u001B[39mestimator_type \u001B[38;5;241m=\u001B[39m \u001B[38;5;124m\"\u001B[39m\u001B[38;5;124mclassifier\u001B[39m\u001B[38;5;124m\"\u001B[39m\n\u001B[1;32m    542\u001B[0m     tags\u001B[38;5;241m.\u001B[39mclassifier_tags \u001B[38;5;241m=\u001B[39m ClassifierTags()\n",
      "\u001B[0;31mAttributeError\u001B[0m: 'super' object has no attribute '__sklearn_tags__'"
     ]
    },
    {
     "data": {
      "text/plain": [
       "XGBClassifier(base_score=None, booster=None, callbacks=None,\n",
       "              colsample_bylevel=None, colsample_bynode=None,\n",
       "              colsample_bytree=None, device=None, early_stopping_rounds=None,\n",
       "              enable_categorical=False, eval_metric=None, feature_types=None,\n",
       "              gamma=None, grow_policy=None, importance_type=None,\n",
       "              interaction_constraints=None, learning_rate=0.05, max_bin=None,\n",
       "              max_cat_threshold=None, max_cat_to_onehot=None,\n",
       "              max_delta_step=None, max_depth=None, max_leaves=None,\n",
       "              min_child_weight=None, missing=nan, monotone_constraints=None,\n",
       "              multi_strategy=None, n_estimators=300, n_jobs=None,\n",
       "              num_parallel_tree=None, random_state=830, ...)"
      ]
     },
     "execution_count": 5,
     "metadata": {},
     "output_type": "execute_result"
    }
   ],
   "execution_count": 5
  },
  {
   "metadata": {},
   "cell_type": "markdown",
   "source": "### Assess fit",
   "id": "56a3e69db7d13d2f"
  },
  {
   "metadata": {
    "ExecuteTime": {
     "end_time": "2025-03-06T19:41:47.416938Z",
     "start_time": "2025-03-06T19:41:47.408779Z"
    }
   },
   "cell_type": "code",
   "source": [
    "y_pred = model.predict(x_test)\n",
    "cnf = confusion_matrix(y_test, y_pred)\n",
    "summarise_cnf(cnf)"
   ],
   "id": "12ecbfac614da92d",
   "outputs": [
    {
     "name": "stdout",
     "output_type": "stream",
     "text": [
      "Accuracy: 0.8524096385542169\n",
      "Precision: 0.3333333333333333\n",
      "Sensitivity: 0.16666666666666666\n",
      "Specificity: 0.9517241379310345\n",
      "[[276  14]\n",
      " [ 35   7]]\n"
     ]
    }
   ],
   "execution_count": 6
  },
  {
   "metadata": {
    "ExecuteTime": {
     "end_time": "2025-03-06T02:13:35.540228Z",
     "start_time": "2025-03-06T02:13:35.538729Z"
    }
   },
   "cell_type": "code",
   "source": "",
   "id": "4177dade43b5f527",
   "outputs": [],
   "execution_count": null
  }
 ],
 "metadata": {
  "kernelspec": {
   "display_name": "Python 3",
   "language": "python",
   "name": "python3"
  },
  "language_info": {
   "codemirror_mode": {
    "name": "ipython",
    "version": 2
   },
   "file_extension": ".py",
   "mimetype": "text/x-python",
   "name": "python",
   "nbconvert_exporter": "python",
   "pygments_lexer": "ipython2",
   "version": "2.7.6"
  }
 },
 "nbformat": 4,
 "nbformat_minor": 5
}
